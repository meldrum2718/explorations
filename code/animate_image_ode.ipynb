{
 "cells": [
  {
   "cell_type": "code",
   "execution_count": null,
   "id": "9727ff59-5c73-4435-acc6-4bd2ecdc9cd0",
   "metadata": {},
   "outputs": [],
   "source": [
    "from typing import List\n",
    "import torch\n",
    "import torch.nn as nn\n",
    "import torch.nn.functional as F\n",
    "import matplotlib.pyplot as plt\n",
    "from matplotlib.animation import FuncAnimation\n",
    "from torchdiffeq import odeint"
   ]
  },
  {
   "cell_type": "code",
   "execution_count": null,
   "id": "d1a97766-3e86-4955-8db8-85384680fd1c",
   "metadata": {},
   "outputs": [],
   "source": [
    "%matplotlib notebook\n",
    "\n",
    "plt.rcParams[\"animation.html\"] = \"jshtml\"\n",
    "plt.rcParams['figure.dpi'] = 150  \n",
    "\n",
    "def animate_frames(frames: List[torch.Tensor], draw_func=None):\n",
    "    if draw_func is None:\n",
    "        def draw_func(ax, t, frames):\n",
    "            ax.cla()\n",
    "            ax.imshow(frames[t])\n",
    "            ax.set_title(str(t))\n",
    "    fig, ax = plt.subplots()\n",
    "    f = lambda t: draw_func(ax, t % len(frames), frames)\n",
    "    return FuncAnimation(fig, func=f, frames=len(frames))"
   ]
  },
  {
   "cell_type": "code",
   "execution_count": null,
   "id": "e14333ee-e3a3-4af7-a761-f428477cf000",
   "metadata": {},
   "outputs": [],
   "source": [
    "class ResidualConvBlock(nn.Module):\n",
    "    def __init__(self, d, kernel_size=3, padding=1):\n",
    "        super(ResidualConvBlock, self).__init__()\n",
    "        self.conv = nn.Conv2d(d, d, kernel_size, padding=padding)\n",
    "        self.activation = nn.Softplus()\n",
    "\n",
    "    def forward(self, x):\n",
    "        residual = x\n",
    "        out = self.conv(x)\n",
    "        out = self.activation(out)\n",
    "        out += residual\n",
    "        return F.sigmoid(out)\n",
    "\n",
    "\n",
    "class Func(nn.Module):\n",
    "    def __init__(self, nchannels, nrows, ncols):\n",
    "        super().__init__()\n",
    "        # self.dim = nrows * ncols\n",
    "        # self.fc = nn.Linear(self.dim, self.dim)\n",
    "        self.rc = ResidualConvBlock(nchannels)\n",
    "    \n",
    "    def forward(self, t, y):\n",
    "        \"\"\" y.shape should be (..., nchannels, nrows, ncols) \"\"\"\n",
    "        shape = y.shape\n",
    "        # y = y.reshape(*shape[:-2], self.dim)\n",
    "        # print('a', y.shape)\n",
    "        # y = self.fc(y)\n",
    "        # print('b', y.shape)\n",
    "        # y = F.softplus(y)\n",
    "        y = self.rc(y)\n",
    "        return y\n",
    "        \n",
    "\n",
    "\n",
    "t_span = (0, 10)\n",
    "nsnapshots = 30\n",
    "nrows = 10\n",
    "ncols = 10\n",
    "nchannels = 3\n",
    "nbatch = 1\n",
    "y0 = torch.randn(nbatch, nchannels, nrows, ncols)\n",
    "dydt = Func(nchannels, nrows, ncols)\n",
    "\n",
    "t_eval = torch.linspace(*t_span, nsnapshots)\n",
    "frames = odeint(dydt, y0, t_eval, atol=1)\n",
    "frames = torch.clamp(frames, 0, 1)\n",
    "print(frames.shape)\n",
    "frames = frames[:, 0, ...] # first batch only\n",
    "print(frames.shape)\n",
    "frames = frames.permute(0, 2, 3, 1) # (t, c, h, w) -> (t, h, w, c)\n",
    "animate_frames(frames.detach())"
   ]
  },
  {
   "cell_type": "code",
   "execution_count": null,
   "id": "770439d3-22bc-40bd-a499-183d3b679d85",
   "metadata": {},
   "outputs": [],
   "source": [
    "## TODO make it so that image data in valid range\n",
    "## TODO train the thing. first to evolve to a certain fixed point.\n",
    "#       (think experiments from distill.pub article growing nca"
   ]
  },
  {
   "cell_type": "code",
   "execution_count": null,
   "id": "fb642114-701a-4c2c-b664-72be872ab331",
   "metadata": {},
   "outputs": [],
   "source": []
  },
  {
   "cell_type": "code",
   "execution_count": null,
   "id": "ba7cd521-befd-49d3-a387-09bd683f4837",
   "metadata": {},
   "outputs": [],
   "source": []
  }
 ],
 "metadata": {
  "kernelspec": {
   "display_name": "Python 3 (ipykernel)",
   "language": "python",
   "name": "python3"
  },
  "language_info": {
   "codemirror_mode": {
    "name": "ipython",
    "version": 3
   },
   "file_extension": ".py",
   "mimetype": "text/x-python",
   "name": "python",
   "nbconvert_exporter": "python",
   "pygments_lexer": "ipython3",
   "version": "3.10.14"
  }
 },
 "nbformat": 4,
 "nbformat_minor": 5
}
