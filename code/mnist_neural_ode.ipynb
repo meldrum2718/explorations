{
 "cells": [
  {
   "cell_type": "markdown",
   "id": "bb2b6bc4-d0a0-4379-a73f-021bc71c4bcc",
   "metadata": {},
   "source": [
    "# Neural ODE for mnist classification\n",
    "\n"
   ]
  },
  {
   "cell_type": "code",
   "execution_count": null,
   "id": "079d83aa-dca3-414e-a622-d615215a825d",
   "metadata": {},
   "outputs": [],
   "source": [
    "import torch\n",
    "import torch.nn as nn\n",
    "import torch.nn.functional as F\n",
    "import torch.optim as optim\n",
    "from torchvision import datasets, transforms\n",
    "from torch.utils.data import DataLoader, random_split\n",
    "from torchdiffeq import odeint\n",
    "import matplotlib.pyplot as plt\n",
    "from matplotlib.animation import FuncAnimation\n",
    "from tqdm import tqdm"
   ]
  },
  {
   "cell_type": "code",
   "execution_count": null,
   "id": "a676f9df-72e0-43c9-957e-e3af92ae88e9",
   "metadata": {},
   "outputs": [],
   "source": [
    "%matplotlib notebook\n",
    "\n",
    "plt.rcParams[\"animation.html\"] = \"jshtml\"\n",
    "plt.rcParams['figure.dpi'] = 150  \n",
    "\n",
    "def animate_frames(frames: torch.Tensor, draw_func=None):\n",
    "    if draw_func is None:\n",
    "        def draw_func(ax, t, frames):\n",
    "            ax.cla()\n",
    "            ax.imshow(frames[t])\n",
    "            ax.set_title(str(t))\n",
    "    fig, ax = plt.subplots()\n",
    "    f = lambda t: draw_func(ax, t % len(frames), frames)\n",
    "    return FuncAnimation(fig, func=f, frames=len(frames))"
   ]
  },
  {
   "cell_type": "code",
   "execution_count": null,
   "id": "a2a555ea-1323-4102-a4f6-9ca572739dcb",
   "metadata": {},
   "outputs": [],
   "source": [
    "class Node(nn.Module):\n",
    "    \"\"\" Neural ode with i/o. \"\"\"\n",
    "    class Func(nn.Module):\n",
    "        def __init__(self, d):\n",
    "            super(Node.Func, self).__init__()\n",
    "            self.fc1 = nn.Linear(2*d, 2*d)\n",
    "            self.fc2 = nn.Linear(2*d, d)\n",
    "    \n",
    "        def forward(self, t, x):\n",
    "            x = torch.concat(x, dim=1)\n",
    "            x = F.softplus(self.fc1(x))\n",
    "            return self.fc2(x)\n",
    "\n",
    "    def __init__(self, c, h, w, d_out):\n",
    "        super(Node, self).__init__()\n",
    "        self.dim = c * h * w\n",
    "        self.dxdt = Node.Func(self.dim)\n",
    "        self.fc_out = nn.Linear(self.dim, d_out)\n",
    "\n",
    "    def forward(self, inp, init_cond=None, t_eval=None, return_trajectories=False, rtol=1, atol=1, method='rk4'):\n",
    "        B, C, H, W = inp.shape\n",
    "        \n",
    "        if init_cond is None:\n",
    "            state = torch.randn(B, self.dim)\n",
    "        else:\n",
    "            assert inp.shape == init_cond.shape\n",
    "            state = init_cond\n",
    "            \n",
    "        if t_eval is None:\n",
    "            t_eval = torch.Tensor([0, 1])\n",
    "            \n",
    "        dxdt = lambda t, state: self.dxdt(t, (inp.view(B, -1), state))\n",
    "        trajectories = odeint(dxdt, state, t=t_eval, rtol=rtol, atol=atol, method=method)\n",
    "        state = trajectories[-1]\n",
    "        out = self.fc_out(state)\n",
    "        if return_trajectories:\n",
    "            return out, trajectories.reshape(len(t_eval), B, C, H, W)\n",
    "        return out"
   ]
  },
  {
   "cell_type": "code",
   "execution_count": null,
   "id": "01787fc7-d5c5-4ad8-becc-ce85ee19bb72",
   "metadata": {},
   "outputs": [],
   "source": [
    "transform = transforms.Compose([transforms.ToTensor(), transforms.Normalize((0.5,), (0.5,))])\n",
    "dataset = datasets.MNIST(root='./data', train=True, download=True, transform=transform)\n",
    "\n",
    "train_size = int(0.8 * len(dataset))\n",
    "test_size = len(dataset) - train_size\n",
    "train_dataset, test_dataset = random_split(dataset, [train_size, test_size])\n",
    "\n",
    "batch_size = 512\n",
    "train_loader = DataLoader(train_dataset, batch_size=batch_size, shuffle=True)\n",
    "test_loader = DataLoader(test_dataset, batch_size=batch_size, shuffle=False)"
   ]
  },
  {
   "cell_type": "code",
   "execution_count": null,
   "id": "626161d1-fd14-49c0-81ef-6d920b8022e7",
   "metadata": {},
   "outputs": [],
   "source": [
    "import time\n",
    "\n",
    "model = Node(1, 28, 28, 10)\n",
    "criterion = nn.CrossEntropyLoss()\n",
    "optimizer = optim.Adam(model.parameters(), lr=0.001)\n",
    "\n",
    "num_epochs = 3\n",
    "train_losses = []\n",
    "\n",
    "print('len(train_loader) =', len(train_loader))\n",
    "\n",
    "for epoch in tqdm(range(num_epochs)):\n",
    "    model.train()\n",
    "    running_loss = 0.0\n",
    "    for nt, (images, labels) in enumerate(train_loader):\n",
    "        optimizer.zero_grad()\n",
    "        outputs = model(images)\n",
    "        loss = criterion(outputs, labels)\n",
    "        loss.backward()\n",
    "        optimizer.step()\n",
    "        running_loss += loss.item()\n",
    "\n",
    "    \n",
    "    average_loss = running_loss / len(train_loader)\n",
    "    train_losses.append(average_loss)\n",
    "    print(f\"Epoch [{epoch+1}/{num_epochs}], Loss: {average_loss:.4f}\")\n",
    "\n",
    "%matplotlib inline\n",
    "plt.plot(train_losses, label='Training Loss')\n",
    "plt.xlabel('Epoch')\n",
    "plt.ylabel('Loss')\n",
    "plt.title('Training Loss Over Time')\n",
    "plt.legend()\n",
    "plt.show()"
   ]
  },
  {
   "cell_type": "code",
   "execution_count": null,
   "id": "df040406-4877-4adb-8198-fdb4f84d0372",
   "metadata": {},
   "outputs": [],
   "source": [
    "def compute_accuracy(model, dataloader, t_eval=None, init_cond=None, rtol=1, atol=1, method='rk4'):\n",
    "    n_correct = n_total = 0\n",
    "    for x, y in dataloader:\n",
    "        with torch.no_grad():\n",
    "            logits = model(x, t_eval=t_eval, init_cond=init_cond, rtol=rtol, atol=atol, method=method)\n",
    "            probs = torch.softmax(logits, dim=-1)\n",
    "            preds = torch.argmax(probs, dim=-1)\n",
    "            n_correct += torch.sum(preds == y).item()\n",
    "            n_total += len(y)\n",
    "    return(n_correct / n_total)\n",
    "\n",
    "print(compute_accuracy(model, train_loader))\n",
    "print(compute_accuracy(model, test_loader))"
   ]
  },
  {
   "cell_type": "code",
   "execution_count": null,
   "id": "25915ed4-dc18-4760-bfa7-548c1b0437fb",
   "metadata": {},
   "outputs": [],
   "source": []
  },
  {
   "cell_type": "code",
   "execution_count": null,
   "id": "aba09c20-64b9-4e43-947d-5468d5d00680",
   "metadata": {},
   "outputs": [],
   "source": []
  },
  {
   "cell_type": "code",
   "execution_count": null,
   "id": "c3dc24d1-48fd-4e4c-8028-7a6cec3b661f",
   "metadata": {},
   "outputs": [],
   "source": []
  },
  {
   "cell_type": "code",
   "execution_count": null,
   "id": "fd275a0a-71bc-4b1c-a9b6-e013f35e31f3",
   "metadata": {},
   "outputs": [],
   "source": [
    "def plot_endtime_vs_accuracy(model, dataloader):\n",
    "    endtime_vs_accuracy = []\n",
    "    for end_time in torch.linspace(-3, 2, 20):\n",
    "        end_time = torch.exp(end_time)\n",
    "        t_eval = torch.Tensor([0, end_time])\n",
    "        endtime_vs_accuracy.append([end_time, compute_accuracy(model, dataloader, t_eval=t_eval)])\n",
    "    \n",
    "    eva = torch.Tensor(endtime_vs_accuracy)\n",
    "    print(eva.shape)\n",
    "    plt.scatter(eva[:, 0], eva[:, 1])\n",
    "    plt.xlabel('length of time for ode to run')\n",
    "    plt.ylabel('model accuracy')\n"
   ]
  },
  {
   "cell_type": "markdown",
   "id": "0dfd61bd-7036-4b5b-82f2-724d28322f9d",
   "metadata": {},
   "source": [
    "As expected, predictions fall off if too much time is spent in the ode, since here training always uses $[0, 1]$ as the range of integration for the ode"
   ]
  },
  {
   "cell_type": "code",
   "execution_count": null,
   "id": "2f276b95-7ea9-4d9a-aead-4ea02367c989",
   "metadata": {},
   "outputs": [],
   "source": [
    "plot_endtime_vs_accuracy(model, test_loader)"
   ]
  },
  {
   "cell_type": "code",
   "execution_count": null,
   "id": "7f9d450e-1f39-477d-a3e6-1e77daa4feda",
   "metadata": {
    "scrolled": true
   },
   "outputs": [],
   "source": [
    "logits, trajectories = model(next(iter(train_loader))[0], t_eval=torch.linspace(0, 20, 100), return_trajectories=True)\n",
    "trajectories = trajectories.detach()\n",
    "\n",
    "animate_frames(trajectories[:, 0, :].squeeze(1))"
   ]
  },
  {
   "cell_type": "code",
   "execution_count": null,
   "id": "0f45a122-db06-4360-a4f5-6613a0ad2034",
   "metadata": {},
   "outputs": [],
   "source": []
  },
  {
   "cell_type": "code",
   "execution_count": null,
   "id": "b0e5a6db-5990-4dc4-902e-eccacf2e55b8",
   "metadata": {},
   "outputs": [],
   "source": []
  }
 ],
 "metadata": {
  "kernelspec": {
   "display_name": "Python 3 (ipykernel)",
   "language": "python",
   "name": "python3"
  },
  "language_info": {
   "codemirror_mode": {
    "name": "ipython",
    "version": 3
   },
   "file_extension": ".py",
   "mimetype": "text/x-python",
   "name": "python",
   "nbconvert_exporter": "python",
   "pygments_lexer": "ipython3",
   "version": "3.10.14"
  }
 },
 "nbformat": 4,
 "nbformat_minor": 5
}
