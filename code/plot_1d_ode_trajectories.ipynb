{
 "cells": [
  {
   "cell_type": "markdown",
   "id": "1814956a-6c70-48c2-96e8-7c3aaea0c9ae",
   "metadata": {},
   "source": [
    "# Visualizing trajectories of some 1d ODEs:\n",
    "\n",
    "Note that here we're finding collections of trajectories by computing a single trajectory of a high dimensional vector, and looking at the trajctory of the scalar projection along each of the many coordinate directions. The result is equivalent as computing many different trajectories so long as the function $\\frac{dy}{dt}$ acts componentwise on the state."
   ]
  },
  {
   "cell_type": "code",
   "execution_count": null,
   "id": "3be29de4-3be9-4ab7-b7ef-028527e975f6",
   "metadata": {},
   "outputs": [],
   "source": [
    "import numpy as np\n",
    "import scipy.integrate as spi\n",
    "import matplotlib.pyplot as plt\n",
    "%matplotlib inline"
   ]
  },
  {
   "cell_type": "code",
   "execution_count": null,
   "id": "c028ed5b-7b33-4592-aed3-10cdd9568f9e",
   "metadata": {},
   "outputs": [],
   "source": [
    "def plot_trajectories_1d_ode(dydt, t_span, initial_points: np.ndarray, max_step=1e-2):\n",
    "    soln = spi.solve_ivp(dydt, t_span, initial_points, max_step=max_step)\n",
    "    trajectories = soln.y.T\n",
    "    plt.plot(np.linspace(*t_span, trajectories.shape[0]), trajectories)\n",
    "    return soln"
   ]
  },
  {
   "cell_type": "code",
   "execution_count": null,
   "id": "652c7649-024d-40a1-a83f-ab18ab286b92",
   "metadata": {
    "scrolled": true
   },
   "outputs": [],
   "source": [
    "def dydt(t, y):\n",
    "    return np.sin(y)\n",
    "t_span = (-10, 10)\n",
    "initial_points = np.linspace(-25, 25, 1000)\n",
    "soln = plot_trajectories_1d_ode(dydt, t_span, initial_points)"
   ]
  },
  {
   "cell_type": "code",
   "execution_count": null,
   "id": "2311550d-3a26-44b9-98cb-402eb19a0f95",
   "metadata": {},
   "outputs": [],
   "source": [
    "def dydt(t, y):\n",
    "    return y\n",
    "\n",
    "t_span = (0, 5)\n",
    "initial_points = np.linspace(-5, 5, 50)\n",
    "soln = plot_trajectories_1d_ode(dydt, t_span, initial_points)"
   ]
  },
  {
   "cell_type": "code",
   "execution_count": null,
   "id": "2f517e97-fd21-4241-a03f-d0642f579e8c",
   "metadata": {},
   "outputs": [],
   "source": [
    "def dydt(t, y):\n",
    "    return y * np.cos(t)\n",
    "\n",
    "t_span = (-15, 15)\n",
    "initial_points = np.linspace(-55, 55, 500)\n",
    "soln = plot_trajectories_1d_ode(dydt, t_span, initial_points)"
   ]
  },
  {
   "cell_type": "code",
   "execution_count": null,
   "id": "183c1a30-8936-4c46-b618-836886cabe24",
   "metadata": {},
   "outputs": [],
   "source": [
    "def dydt(t, y):\n",
    "    return np.cos(y) * np.cos(t*y)\n",
    "\n",
    "t_span = (-25, 20)\n",
    "initial_points = np.linspace(-5, 5, 500)\n",
    "soln = plot_trajectories_1d_ode(dydt, t_span, initial_points, max_step=1e-2)"
   ]
  },
  {
   "cell_type": "code",
   "execution_count": null,
   "id": "d247a613-9ffa-4bdb-9971-c412bda73c9d",
   "metadata": {
    "scrolled": true
   },
   "outputs": [],
   "source": [
    "def dydt(t, y):\n",
    "    return np.sin(y) / (np.cos(y) + 1e-2)\n",
    "\n",
    "t_span = (0, 10)\n",
    "initial_points = np.linspace(-10, 10, 500)\n",
    "soln = plot_trajectories_1d_ode(dydt, t_span, initial_points)"
   ]
  },
  {
   "cell_type": "code",
   "execution_count": null,
   "id": "e48849da-4dfc-493d-b21f-c20900103a0e",
   "metadata": {},
   "outputs": [],
   "source": [
    "def dydt(t, y):\n",
    "    return np.cos(y) / (np.cos(t**2) + 1e-2)\n",
    "\n",
    "t_span = (0, 10)\n",
    "initial_points = np.linspace(-10, 10, 500)\n",
    "soln = plot_trajectories_1d_ode(dydt, t_span, initial_points, max_step=1e-2)"
   ]
  },
  {
   "cell_type": "code",
   "execution_count": null,
   "id": "93dde91f-4582-4316-8ea1-9e1fbbeccfe4",
   "metadata": {},
   "outputs": [],
   "source": [
    "def dydt(t, y):\n",
    "    return np.cos(y) / (np.cos(t) + 1e-2)\n",
    "\n",
    "t_span = (0, 10)\n",
    "initial_points = np.linspace(-10, 10, 500)\n",
    "soln = plot_trajectories_1d_ode(dydt, t_span, initial_points)"
   ]
  },
  {
   "cell_type": "code",
   "execution_count": null,
   "id": "e9aad711-b1b0-45e9-bf37-1c2450007b69",
   "metadata": {},
   "outputs": [],
   "source": [
    "def dydt(t, y):\n",
    "    return np.cos(y) / (np.tanh(t) + 1e-2)\n",
    "\n",
    "t_span = (0, 10)\n",
    "initial_points = np.linspace(-10, 10, 500)\n",
    "soln = plot_trajectories_1d_ode(dydt, t_span, initial_points, max_step=1e-3)"
   ]
  },
  {
   "cell_type": "code",
   "execution_count": null,
   "id": "a00d0b51-cc3a-4883-b95c-3fbd7cf244b9",
   "metadata": {
    "scrolled": true
   },
   "outputs": [],
   "source": [
    "def dydt(t, y):\n",
    "    return np.sin(y**2) / (np.cos(t**3) + 1e-2)\n",
    "\n",
    "t_span = (0, 10)\n",
    "initial_points = np.linspace(-10, 10, 500)\n",
    "soln = plot_trajectories_1d_ode(dydt, t_span, initial_points, max_step=1e-2)"
   ]
  },
  {
   "cell_type": "code",
   "execution_count": null,
   "id": "84a46429-8756-481d-83ab-7a07532785e3",
   "metadata": {},
   "outputs": [],
   "source": []
  },
  {
   "cell_type": "code",
   "execution_count": null,
   "id": "4b283828-adfa-4f79-834a-ce28954f4e3e",
   "metadata": {},
   "outputs": [],
   "source": []
  },
  {
   "cell_type": "code",
   "execution_count": null,
   "id": "57baf2ac-c5d5-402c-a2bc-5ece36f9c0cc",
   "metadata": {},
   "outputs": [],
   "source": []
  }
 ],
 "metadata": {
  "kernelspec": {
   "display_name": "Python 3 (ipykernel)",
   "language": "python",
   "name": "python3"
  },
  "language_info": {
   "codemirror_mode": {
    "name": "ipython",
    "version": 3
   },
   "file_extension": ".py",
   "mimetype": "text/x-python",
   "name": "python",
   "nbconvert_exporter": "python",
   "pygments_lexer": "ipython3",
   "version": "3.10.14"
  }
 },
 "nbformat": 4,
 "nbformat_minor": 5
}
