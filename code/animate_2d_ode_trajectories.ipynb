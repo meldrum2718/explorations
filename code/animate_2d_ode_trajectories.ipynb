{
 "cells": [
  {
   "cell_type": "code",
   "execution_count": null,
   "id": "3c49ec53-55c2-465b-ac26-216f331a43bf",
   "metadata": {},
   "outputs": [],
   "source": [
    "from typing import List\n",
    "import numpy as np\n",
    "import torch\n",
    "import torch.nn as nn\n",
    "import matplotlib.pyplot as plt\n",
    "from matplotlib.animation import FuncAnimation\n",
    "from torchdiffeq import odeint\n"
   ]
  },
  {
   "cell_type": "code",
   "execution_count": null,
   "id": "0c65c846-208e-459d-bdc7-a15efac20b39",
   "metadata": {},
   "outputs": [],
   "source": [
    "%matplotlib notebook\n",
    "\n",
    "plt.rcParams[\"animation.html\"] = \"jshtml\"\n",
    "plt.rcParams['figure.dpi'] = 150  \n",
    "\n",
    "def animate_2d_trajectories(trajectories, ax=None, xlim=(-5, 5), ylim=(-5, 5)):\n",
    "    \"\"\"\n",
    "    trajectories should have shape (T, N, 2). N 2d points, at T different times.\n",
    "    \"\"\"\n",
    "    if ax is None:\n",
    "        fig, ax = plt.subplots()\n",
    "\n",
    "    def draw_func(ax, t):\n",
    "        ax.cla()\n",
    "        ax.scatter(trajectories[t, :, 0], trajectories[t, :, 1], s=1)\n",
    "        ax.set_title(str(t))\n",
    "        ax.set_xlim(xlim)\n",
    "        ax.set_ylim(ylim)\n",
    "    fig, ax = plt.subplots()\n",
    "    f = lambda t: draw_func(ax, t % trajectories.shape[0])\n",
    "    return FuncAnimation(fig, func=f, frames=trajectories.shape[0])"
   ]
  },
  {
   "cell_type": "code",
   "execution_count": null,
   "id": "0dd8b808-d737-4cb3-8df5-756dc8f1f461",
   "metadata": {},
   "outputs": [],
   "source": []
  },
  {
   "cell_type": "code",
   "execution_count": null,
   "id": "01cabb83-08ea-48b6-abff-e894a271b4bd",
   "metadata": {},
   "outputs": [],
   "source": [
    "class Func(nn.Module):\n",
    "    def forward(self, t, y):\n",
    "        t = t.item()\n",
    "        A = torch.Tensor([[np.cos(t), -np.sin(t)], [-np.sin(t), np.cos(t)]])\n",
    "        return torch.mm(y, A)\n",
    "dydt = Func()\n",
    "\n",
    "t_span = (0, 10)\n",
    "n_snapshots = 30\n",
    "n_points = 300\n",
    "y0 = 2 * torch.randn(n_points, 2)\n",
    "\n",
    "\n",
    "\n",
    "t_eval = torch.linspace(*t_span, n_snapshots)\n",
    "trajectories = odeint(dydt, y0, t_eval)\n",
    "animate_2d_trajectories(trajectories, xlim=(-20, 20), ylim=(-20, 20))"
   ]
  },
  {
   "cell_type": "code",
   "execution_count": null,
   "id": "bb41fb7f-1dc6-4a7a-ac7a-64184772583c",
   "metadata": {},
   "outputs": [],
   "source": [
    "class Func(nn.Module):\n",
    "    def forward(self, t, y):\n",
    "        A = torch.Tensor([[0, -1], [1, 0]])\n",
    "        return torch.mm(y, A)\n",
    "dydt = Func()\n",
    "\n",
    "t_span = (0, 6)\n",
    "n_snapshots = 30\n",
    "n_points = 100\n",
    "y0 = 2 * torch.randn(n_points, 2)\n",
    "\n",
    "t_eval = torch.linspace(*t_span, n_snapshots)\n",
    "trajectories = odeint(dydt, y0, t_eval)\n",
    "animate_2d_trajectories(trajectories, xlim=(-20, 20), ylim=(-20, 20))"
   ]
  },
  {
   "cell_type": "code",
   "execution_count": null,
   "id": "ccabe545-e2d5-426d-84a0-6ce5e78181c6",
   "metadata": {},
   "outputs": [],
   "source": []
  },
  {
   "cell_type": "code",
   "execution_count": null,
   "id": "0e15241f-5518-4cba-8c5e-f8906c094c68",
   "metadata": {},
   "outputs": [],
   "source": [
    "class Func(nn.Module):\n",
    "    def forward(self, t, y):\n",
    "        return torch.cos(y)\n",
    "dydt = Func()\n",
    "\n",
    "t_span = (0, 10)\n",
    "n_snapshots = 30\n",
    "n_points = 100\n",
    "y0 = 3 * torch.randn(n_points, 2)\n",
    "\n",
    "t_eval = torch.linspace(*t_span, n_snapshots)\n",
    "trajectories = odeint(dydt, y0, t_eval)\n",
    "animate_2d_trajectories(trajectories, xlim=(-10, 10), ylim=(-10, 10))"
   ]
  },
  {
   "cell_type": "code",
   "execution_count": null,
   "id": "6cd933c0-d18c-4408-8283-7f1405aabf66",
   "metadata": {},
   "outputs": [],
   "source": []
  },
  {
   "cell_type": "code",
   "execution_count": null,
   "id": "7895f373-9b45-44b9-bbba-11e0caa35018",
   "metadata": {},
   "outputs": [],
   "source": [
    "class Func(nn.Module):\n",
    "    def forward(self, t, y):\n",
    "        return 2 * torch.randn(*y.shape)\n",
    "dydt = Func()\n",
    "\n",
    "t_span = (0, 1)\n",
    "n_snapshots = 30\n",
    "n_points = 1000\n",
    "y0 = .3 * torch.randn(n_points, 2)\n",
    "\n",
    "t_eval = torch.linspace(*t_span, n_snapshots)\n",
    "trajectories = odeint(dydt, y0, t_eval, atol=1)\n",
    "animate_2d_trajectories(trajectories, xlim=(-10, 10), ylim=(-10, 10))"
   ]
  },
  {
   "cell_type": "code",
   "execution_count": null,
   "id": "2fcabe20-fd92-4e31-a48a-61dfe977f8d0",
   "metadata": {},
   "outputs": [],
   "source": [
    "class Func(nn.Module):\n",
    "    def forward(self, t, y):\n",
    "        x1 = y[:, 0]\n",
    "        x2 = y[:, 1]\n",
    "        dx1 = torch.sin(x1) - x2\n",
    "        dx2 = x2 + x1\n",
    "        out = torch.stack((dx1, dx2), 1)\n",
    "        return out\n",
    "dydt = Func()\n",
    "\n",
    "t_span = (0, 4)\n",
    "n_snapshots = 30\n",
    "n_points = 100\n",
    "y0 =  torch.randn(n_points, 2)\n",
    "\n",
    "t_eval = torch.linspace(*t_span, n_snapshots)\n",
    "trajectories = odeint(dydt, y0, t_eval, rtol=1e1, atol=1e1)\n",
    "animate_2d_trajectories(trajectories, xlim=(-10, 10), ylim=(-10, 10))"
   ]
  },
  {
   "cell_type": "code",
   "execution_count": null,
   "id": "ec5e9b29-6ef3-4b48-8277-cc095970f28c",
   "metadata": {},
   "outputs": [],
   "source": []
  },
  {
   "cell_type": "code",
   "execution_count": null,
   "id": "f9da3ff6-fd58-438f-badc-4b104ee736a4",
   "metadata": {},
   "outputs": [],
   "source": []
  },
  {
   "cell_type": "code",
   "execution_count": null,
   "id": "621e370c-7beb-43dd-a98c-38e88e9f8727",
   "metadata": {},
   "outputs": [],
   "source": []
  },
  {
   "cell_type": "code",
   "execution_count": null,
   "id": "a776c198-c715-4236-b284-69c20a4e6eff",
   "metadata": {},
   "outputs": [],
   "source": []
  }
 ],
 "metadata": {
  "kernelspec": {
   "display_name": "Python 3 (ipykernel)",
   "language": "python",
   "name": "python3"
  },
  "language_info": {
   "codemirror_mode": {
    "name": "ipython",
    "version": 3
   },
   "file_extension": ".py",
   "mimetype": "text/x-python",
   "name": "python",
   "nbconvert_exporter": "python",
   "pygments_lexer": "ipython3",
   "version": "3.11.4"
  }
 },
 "nbformat": 4,
 "nbformat_minor": 5
}
