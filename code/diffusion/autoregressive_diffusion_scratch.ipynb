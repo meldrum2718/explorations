{
 "cells": [
  {
   "cell_type": "code",
   "execution_count": 5,
   "id": "e5ac026f-25d9-49ee-892f-6248d4ff8b68",
   "metadata": {},
   "outputs": [],
   "source": [
    "from video_diffusion import *"
   ]
  },
  {
   "cell_type": "code",
   "execution_count": 11,
   "id": "5971e9e6-6d5a-4fd2-a90c-0a39b702fb0e",
   "metadata": {},
   "outputs": [
    {
     "name": "stdout",
     "output_type": "stream",
     "text": [
      "\n",
      "frames:\n",
      "shape: torch.Size([1459, 3, 360, 548])\n",
      "dtype: torch.float32\n",
      "max: tensor(1.)\n",
      "min: tensor(0.)\n",
      "mean: tensor(0.3186)\n",
      "std: tensor(0.3247)\n",
      "\n"
     ]
    }
   ],
   "source": [
    "fname = 'data/mandelbrot_zoom.mp4'\n",
    "frames = load_video_frames_from_file(fname)\n",
    "inspect('frames', frames)"
   ]
  },
  {
   "cell_type": "code",
   "execution_count": 12,
   "id": "079c8b75-02d3-4348-a2e1-628885e0e073",
   "metadata": {},
   "outputs": [
    {
     "name": "stdout",
     "output_type": "stream",
     "text": [
      "len dataset 1455\n",
      "torch.Size([5, 3, 360, 548])\n"
     ]
    }
   ],
   "source": [
    "dataset = AutoregressiveFrames(frames, seq_len=5)\n",
    "print('len dataset', len(dataset))\n",
    "print(dataset[0].shape)"
   ]
  },
  {
   "cell_type": "code",
   "execution_count": 17,
   "id": "f4bc2e35-35ba-4edd-b0d9-6c550dd591fa",
   "metadata": {},
   "outputs": [
    {
     "name": "stdout",
     "output_type": "stream",
     "text": [
      "Batch 0: Shape torch.Size([4, 10, 1, 1, 1]), Values: tensor([0., 1., 2., 3.])\n",
      "Batch 1: Shape torch.Size([4, 10, 1, 1, 1]), Values: tensor([4., 5., 6., 7.])\n",
      "Batch 2: Shape torch.Size([4, 10, 1, 1, 1]), Values: tensor([ 8.,  9., 10., 11.])\n",
      "Batch 3: Shape torch.Size([4, 10, 1, 1, 1]), Values: tensor([12., 13., 14., 15.])\n",
      "Batch 4: Shape torch.Size([4, 10, 1, 1, 1]), Values: tensor([16., 17., 18., 19.])\n",
      "Batch 5: Shape torch.Size([4, 10, 1, 1, 1]), Values: tensor([20., 21., 22., 23.])\n",
      "Batch 6: Shape torch.Size([4, 10, 1, 1, 1]), Values: tensor([24., 25., 26., 27.])\n",
      "Batch 7: Shape torch.Size([4, 10, 1, 1, 1]), Values: tensor([28., 29., 30., 31.])\n",
      "Batch 8: Shape torch.Size([4, 10, 1, 1, 1]), Values: tensor([32., 33., 34., 35.])\n",
      "Batch 9: Shape torch.Size([4, 10, 1, 1, 1]), Values: tensor([36., 37., 38., 39.])\n",
      "Batch 10: Shape torch.Size([4, 10, 1, 1, 1]), Values: tensor([40., 41., 42., 43.])\n",
      "Batch 11: Shape torch.Size([4, 10, 1, 1, 1]), Values: tensor([44., 45., 46., 47.])\n",
      "Batch 12: Shape torch.Size([4, 10, 1, 1, 1]), Values: tensor([48., 49., 50., 51.])\n",
      "Batch 13: Shape torch.Size([4, 10, 1, 1, 1]), Values: tensor([52., 53., 54., 55.])\n",
      "Batch 14: Shape torch.Size([4, 10, 1, 1, 1]), Values: tensor([56., 57., 58., 59.])\n",
      "Batch 15: Shape torch.Size([4, 10, 1, 1, 1]), Values: tensor([60., 61., 62., 63.])\n",
      "Batch 16: Shape torch.Size([4, 10, 1, 1, 1]), Values: tensor([64., 65., 66., 67.])\n",
      "Batch 17: Shape torch.Size([4, 10, 1, 1, 1]), Values: tensor([68., 69., 70., 71.])\n",
      "Batch 18: Shape torch.Size([4, 10, 1, 1, 1]), Values: tensor([72., 73., 74., 75.])\n",
      "Batch 19: Shape torch.Size([4, 10, 1, 1, 1]), Values: tensor([76., 77., 78., 79.])\n",
      "Batch 20: Shape torch.Size([4, 10, 1, 1, 1]), Values: tensor([80., 81., 82., 83.])\n",
      "Batch 21: Shape torch.Size([3, 10, 1, 1, 1]), Values: tensor([84., 85., 86.])\n"
     ]
    }
   ],
   "source": [
    "import torch\n",
    "from torch.utils.data import Dataset, DataLoader\n",
    "\n",
    "class AutoregressiveFrames(Dataset):\n",
    "    def __init__(self, frames: torch.Tensor, seq_len: int):\n",
    "        self.frames = frames\n",
    "        self.seq_len = seq_len\n",
    "        self.T = frames.shape[0]\n",
    "\n",
    "    def __len__(self):\n",
    "        return max(0, self.T - self.seq_len + 1)\n",
    "\n",
    "    def __getitem__(self, idx):\n",
    "        if idx + self.seq_len > self.T:\n",
    "            raise IndexError(f\"Index {idx} + seq_len {self.seq_len} exceeds tensor length {self.T}\")\n",
    "        sub_tensor = self.frames[idx:idx+self.seq_len]\n",
    "        if sub_tensor.shape[0] < self.seq_len:  # Optional: Pad if needed\n",
    "            padding = torch.zeros((self.seq_len - sub_tensor.shape[0], *sub_tensor.shape[1:]))\n",
    "            sub_tensor = torch.cat((sub_tensor, padding), dim=0)\n",
    "        return sub_tensor\n",
    "\n",
    "# Example: Debugging\n",
    "frames = torch.arange(96).view(96, 1, 1, 1).float()  # (T=96, C=1, H=1, W=1)\n",
    "seq_len = 10\n",
    "dataset = AutoregressiveFrames(frames, seq_len)\n",
    "dataloader = DataLoader(dataset, batch_size=4, shuffle=False)\n",
    "\n",
    "for i, batch in enumerate(dataloader):\n",
    "    print(f\"Batch {i}: Shape {batch.shape}, Values: {batch[:, 0, 0, 0, 0]}\")\n"
   ]
  },
  {
   "cell_type": "code",
   "execution_count": 25,
   "id": "7705c052-4d1e-4358-b32f-f4deb663426e",
   "metadata": {},
   "outputs": [
    {
     "name": "stdout",
     "output_type": "stream",
     "text": [
      "torch.Size([2, 3, 10, 10])\n",
      "torch.Size([2, 2, 10, 10])\n"
     ]
    },
    {
     "ename": "IndexError",
     "evalue": "tuple index out of range",
     "output_type": "error",
     "traceback": [
      "\u001b[0;31m---------------------------------------------------------------------------\u001b[0m",
      "\u001b[0;31mIndexError\u001b[0m                                Traceback (most recent call last)",
      "Cell \u001b[0;32mIn[25], line 5\u001b[0m\n\u001b[1;32m      3\u001b[0m \u001b[38;5;28mprint\u001b[39m(x[\u001b[38;5;241m0\u001b[39m]\u001b[38;5;241m.\u001b[39mshape)\n\u001b[1;32m      4\u001b[0m \u001b[38;5;28mprint\u001b[39m(x[\u001b[38;5;241m1\u001b[39m]\u001b[38;5;241m.\u001b[39mshape)\n\u001b[0;32m----> 5\u001b[0m \u001b[38;5;28mprint\u001b[39m(\u001b[43mx\u001b[49m\u001b[43m[\u001b[49m\u001b[38;5;241;43m2\u001b[39;49m\u001b[43m]\u001b[49m\u001b[38;5;241m.\u001b[39mshape)\n",
      "\u001b[0;31mIndexError\u001b[0m: tuple index out of range"
     ]
    }
   ],
   "source": [
    "seq = torch.randn(2, 5, 10, 10)\n",
    "x = torch.split(seq, 3, dim=1)\n",
    "print(x[0].shape)\n",
    "print(x[1].shape)"
   ]
  },
  {
   "cell_type": "code",
   "execution_count": null,
   "id": "8aa709ac-b932-4c1d-bdb5-496287df2a5e",
   "metadata": {},
   "outputs": [],
   "source": []
  }
 ],
 "metadata": {
  "kernelspec": {
   "display_name": "Python 3 (ipykernel)",
   "language": "python",
   "name": "python3"
  },
  "language_info": {
   "codemirror_mode": {
    "name": "ipython",
    "version": 3
   },
   "file_extension": ".py",
   "mimetype": "text/x-python",
   "name": "python",
   "nbconvert_exporter": "python",
   "pygments_lexer": "ipython3",
   "version": "3.10.14"
  }
 },
 "nbformat": 4,
 "nbformat_minor": 5
}
